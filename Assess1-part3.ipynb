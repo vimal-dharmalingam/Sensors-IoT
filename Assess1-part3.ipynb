{
 "cells": [
  {
   "cell_type": "code",
   "execution_count": 322,
   "metadata": {
    "collapsed": true
   },
   "outputs": [
    {
     "data": {
      "text/html": [
       "<div>\n",
       "<style scoped>\n",
       "    .dataframe tbody tr th:only-of-type {\n",
       "        vertical-align: middle;\n",
       "    }\n",
       "\n",
       "    .dataframe tbody tr th {\n",
       "        vertical-align: top;\n",
       "    }\n",
       "\n",
       "    .dataframe thead th {\n",
       "        text-align: right;\n",
       "    }\n",
       "</style>\n",
       "<table border=\"1\" class=\"dataframe\">\n",
       "  <thead>\n",
       "    <tr style=\"text-align: right;\">\n",
       "      <th></th>\n",
       "      <th>id</th>\n",
       "      <th>ActivityDate</th>\n",
       "      <th>MVPASession</th>\n",
       "    </tr>\n",
       "  </thead>\n",
       "  <tbody>\n",
       "    <tr>\n",
       "      <td>0</td>\n",
       "      <td>ec296e97c0</td>\n",
       "      <td>2019-08-29</td>\n",
       "      <td>[{\"start\":451;\"end\":459;\"duration\":13};{\"start...</td>\n",
       "    </tr>\n",
       "    <tr>\n",
       "      <td>1</td>\n",
       "      <td>ec296e97c0</td>\n",
       "      <td>2019-08-27</td>\n",
       "      <td>[{\"start\":64;\"end\":65;\"duration\":6};{\"start\":4...</td>\n",
       "    </tr>\n",
       "    <tr>\n",
       "      <td>2</td>\n",
       "      <td>ec296e97c0</td>\n",
       "      <td>2019-08-26</td>\n",
       "      <td>[{\"start\":450;\"end\":457;\"duration\":12};{\"start...</td>\n",
       "    </tr>\n",
       "    <tr>\n",
       "      <td>3</td>\n",
       "      <td>ec296e97c0</td>\n",
       "      <td>2019-08-28</td>\n",
       "      <td>[{\"start\":447;\"end\":456;\"duration\":14};{\"start...</td>\n",
       "    </tr>\n",
       "    <tr>\n",
       "      <td>4</td>\n",
       "      <td>ec296e97c0</td>\n",
       "      <td>2019-01-09</td>\n",
       "      <td>[{\"start\":980;\"end\":982;\"duration\":7};{\"start\"...</td>\n",
       "    </tr>\n",
       "  </tbody>\n",
       "</table>\n",
       "</div>"
      ],
      "text/plain": [
       "           id ActivityDate                                        MVPASession\n",
       "0  ec296e97c0   2019-08-29  [{\"start\":451;\"end\":459;\"duration\":13};{\"start...\n",
       "1  ec296e97c0   2019-08-27  [{\"start\":64;\"end\":65;\"duration\":6};{\"start\":4...\n",
       "2  ec296e97c0   2019-08-26  [{\"start\":450;\"end\":457;\"duration\":12};{\"start...\n",
       "3  ec296e97c0   2019-08-28  [{\"start\":447;\"end\":456;\"duration\":14};{\"start...\n",
       "4  ec296e97c0   2019-01-09  [{\"start\":980;\"end\":982;\"duration\":7};{\"start\"..."
      ]
     },
     "execution_count": 322,
     "metadata": {},
     "output_type": "execute_result"
    }
   ],
   "source": [
    "import pandas as pd\n",
    "import numpy as np\n",
    "import re\n",
    "df=pd.read_csv('/Users/nsearch/Desktop/HPB_ASSESMENT/Assessment_Inputs/DS3_Heartrate_duration_intervals.csv')\n",
    "df['ActivityDate'] = pd.to_datetime(df['ActivityDate'])\n",
    "df.head()"
   ]
  },
  {
   "cell_type": "markdown",
   "metadata": {},
   "source": [
    "## Analysis"
   ]
  },
  {
   "cell_type": "code",
   "execution_count": 16,
   "metadata": {
    "collapsed": true
   },
   "outputs": [
    {
     "data": {
      "text/plain": [
       "7    207\n",
       "6    101\n",
       "4     69\n",
       "5     68\n",
       "2     68\n",
       "3     51\n",
       "1     40\n",
       "Name: id, dtype: int64"
      ]
     },
     "execution_count": 16,
     "metadata": {},
     "output_type": "execute_result"
    }
   ],
   "source": [
    "df1=pd.DataFrame(df['id'].value_counts())\n",
    "df1['id'].value_counts()"
   ]
  },
  {
   "cell_type": "code",
   "execution_count": 17,
   "metadata": {
    "collapsed": true
   },
   "outputs": [
    {
     "data": {
      "text/plain": [
       "604"
      ]
     },
     "execution_count": 17,
     "metadata": {},
     "output_type": "execute_result"
    }
   ],
   "source": [
    "df1['id'].value_counts().sum()"
   ]
  },
  {
   "cell_type": "markdown",
   "metadata": {},
   "source": [
    "#Single user details"
   ]
  },
  {
   "cell_type": "code",
   "execution_count": 208,
   "metadata": {
    "collapsed": true
   },
   "outputs": [
    {
     "data": {
      "text/html": [
       "<div>\n",
       "<style scoped>\n",
       "    .dataframe tbody tr th:only-of-type {\n",
       "        vertical-align: middle;\n",
       "    }\n",
       "\n",
       "    .dataframe tbody tr th {\n",
       "        vertical-align: top;\n",
       "    }\n",
       "\n",
       "    .dataframe thead th {\n",
       "        text-align: right;\n",
       "    }\n",
       "</style>\n",
       "<table border=\"1\" class=\"dataframe\">\n",
       "  <thead>\n",
       "    <tr style=\"text-align: right;\">\n",
       "      <th></th>\n",
       "      <th>id</th>\n",
       "      <th>ActivityDate</th>\n",
       "      <th>MVPASession</th>\n",
       "    </tr>\n",
       "  </thead>\n",
       "  <tbody>\n",
       "    <tr>\n",
       "      <td>0</td>\n",
       "      <td>ec296e97c0</td>\n",
       "      <td>2019-08-29</td>\n",
       "      <td>[{\"start\":451;\"end\":459;\"duration\":13};{\"start...</td>\n",
       "    </tr>\n",
       "    <tr>\n",
       "      <td>1</td>\n",
       "      <td>ec296e97c0</td>\n",
       "      <td>2019-08-27</td>\n",
       "      <td>[{\"start\":64;\"end\":65;\"duration\":6};{\"start\":4...</td>\n",
       "    </tr>\n",
       "    <tr>\n",
       "      <td>2</td>\n",
       "      <td>ec296e97c0</td>\n",
       "      <td>2019-08-26</td>\n",
       "      <td>[{\"start\":450;\"end\":457;\"duration\":12};{\"start...</td>\n",
       "    </tr>\n",
       "    <tr>\n",
       "      <td>3</td>\n",
       "      <td>ec296e97c0</td>\n",
       "      <td>2019-08-28</td>\n",
       "      <td>[{\"start\":447;\"end\":456;\"duration\":14};{\"start...</td>\n",
       "    </tr>\n",
       "    <tr>\n",
       "      <td>4</td>\n",
       "      <td>ec296e97c0</td>\n",
       "      <td>2019-01-09</td>\n",
       "      <td>[{\"start\":980;\"end\":982;\"duration\":7};{\"start\"...</td>\n",
       "    </tr>\n",
       "    <tr>\n",
       "      <td>5</td>\n",
       "      <td>ec296e97c0</td>\n",
       "      <td>2019-08-30</td>\n",
       "      <td>[{\"start\":443;\"end\":454;\"duration\":16};{\"start...</td>\n",
       "    </tr>\n",
       "    <tr>\n",
       "      <td>6</td>\n",
       "      <td>ec296e97c0</td>\n",
       "      <td>2019-08-31</td>\n",
       "      <td>[{\"start\":958;\"end\":959;\"duration\":6}]</td>\n",
       "    </tr>\n",
       "  </tbody>\n",
       "</table>\n",
       "</div>"
      ],
      "text/plain": [
       "           id ActivityDate                                        MVPASession\n",
       "0  ec296e97c0   2019-08-29  [{\"start\":451;\"end\":459;\"duration\":13};{\"start...\n",
       "1  ec296e97c0   2019-08-27  [{\"start\":64;\"end\":65;\"duration\":6};{\"start\":4...\n",
       "2  ec296e97c0   2019-08-26  [{\"start\":450;\"end\":457;\"duration\":12};{\"start...\n",
       "3  ec296e97c0   2019-08-28  [{\"start\":447;\"end\":456;\"duration\":14};{\"start...\n",
       "4  ec296e97c0   2019-01-09  [{\"start\":980;\"end\":982;\"duration\":7};{\"start\"...\n",
       "5  ec296e97c0   2019-08-30  [{\"start\":443;\"end\":454;\"duration\":16};{\"start...\n",
       "6  ec296e97c0   2019-08-31             [{\"start\":958;\"end\":959;\"duration\":6}]"
      ]
     },
     "execution_count": 208,
     "metadata": {},
     "output_type": "execute_result"
    }
   ],
   "source": [
    "df[df['id']=='ec296e97c0']"
   ]
  },
  {
   "cell_type": "code",
   "execution_count": 209,
   "metadata": {
    "collapsed": true
   },
   "outputs": [
    {
     "data": {
      "text/plain": [
       "'[{\"start\":451;\"end\":459;\"duration\":13};{\"start\":522;\"end\":528;\"duration\":11};{\"start\":568;\"end\":575;\"duration\":12};{\"start\":595;\"end\":604;\"duration\":14};{\"start\":622;\"end\":635;\"duration\":18};{\"start\":654;\"end\":698;\"duration\":49};{\"start\":787;\"end\":793;\"duration\":11};{\"start\":805;\"end\":812;\"duration\":12};{\"start\":857;\"end\":863;\"duration\":11};{\"start\":888;\"end\":889;\"duration\":6};{\"start\":923;\"end\":927;\"duration\":9};{\"start\":950;\"end\":951;\"duration\":6};{\"start\":958;\"end\":967;\"duration\":14};{\"start\":1001;\"end\":1004;\"duration\":8};{\"start\":1010;\"end\":1015;\"duration\":10};{\"start\":1072;\"end\":1081;\"duration\":14};{\"start\":1161;\"end\":1162;\"duration\":6};{\"start\":1171;\"end\":1179;\"duration\":13};{\"start\":1194;\"end\":1210;\"duration\":21}]'"
      ]
     },
     "execution_count": 209,
     "metadata": {},
     "output_type": "execute_result"
    }
   ],
   "source": [
    "df['MVPASession'][0]"
   ]
  },
  {
   "cell_type": "markdown",
   "metadata": {},
   "source": [
    "## COnverting hours for user_id"
   ]
  },
  {
   "cell_type": "code",
   "execution_count": 232,
   "metadata": {},
   "outputs": [],
   "source": [
    "#df['MVPASession'][0]\n",
    "def getting_start_end_hour(input_text):\n",
    "    val=re.findall(r'\\{(.*?)\\}', input_text)\n",
    "    li=[]\n",
    "    for i in val:\n",
    "        d={}\n",
    "        split_val=i.split(';')\n",
    "        #print(split_val)\n",
    "        split_val\n",
    "        start=split_val[0].split(':')[1]\n",
    "        end=split_val[1].split(':')[1]\n",
    "        duration=split_val[2].split(':')[1]\n",
    "        #print(start,end,duration)\n",
    "        d['start']=int(start)\n",
    "        d['end']=int(end)\n",
    "        d['start_hour'] = ((int) (int(start)/(60)))%24 + 1\n",
    "        d['end_hour']=((int) (int(end)/(60)))%24 + 1\n",
    "        d['duration']=int(duration)\n",
    "        li.append(d)\n",
    "    return li"
   ]
  },
  {
   "cell_type": "code",
   "execution_count": 335,
   "metadata": {
    "collapsed": true
   },
   "outputs": [
    {
     "data": {
      "text/plain": [
       "[{'start': 451, 'end': 459, 'start_hour': 8, 'end_hour': 8, 'duration': 13},\n",
       " {'start': 522, 'end': 528, 'start_hour': 9, 'end_hour': 9, 'duration': 11},\n",
       " {'start': 568, 'end': 575, 'start_hour': 10, 'end_hour': 10, 'duration': 12},\n",
       " {'start': 595, 'end': 604, 'start_hour': 10, 'end_hour': 11, 'duration': 14},\n",
       " {'start': 622, 'end': 635, 'start_hour': 11, 'end_hour': 11, 'duration': 18},\n",
       " {'start': 654, 'end': 698, 'start_hour': 11, 'end_hour': 12, 'duration': 49},\n",
       " {'start': 787, 'end': 793, 'start_hour': 14, 'end_hour': 14, 'duration': 11},\n",
       " {'start': 805, 'end': 812, 'start_hour': 14, 'end_hour': 14, 'duration': 12},\n",
       " {'start': 857, 'end': 863, 'start_hour': 15, 'end_hour': 15, 'duration': 11},\n",
       " {'start': 888, 'end': 889, 'start_hour': 15, 'end_hour': 15, 'duration': 6},\n",
       " {'start': 923, 'end': 927, 'start_hour': 16, 'end_hour': 16, 'duration': 9},\n",
       " {'start': 950, 'end': 951, 'start_hour': 16, 'end_hour': 16, 'duration': 6},\n",
       " {'start': 958, 'end': 967, 'start_hour': 16, 'end_hour': 17, 'duration': 14},\n",
       " {'start': 1001, 'end': 1004, 'start_hour': 17, 'end_hour': 17, 'duration': 8},\n",
       " {'start': 1010,\n",
       "  'end': 1015,\n",
       "  'start_hour': 17,\n",
       "  'end_hour': 17,\n",
       "  'duration': 10},\n",
       " {'start': 1072,\n",
       "  'end': 1081,\n",
       "  'start_hour': 18,\n",
       "  'end_hour': 19,\n",
       "  'duration': 14},\n",
       " {'start': 1161, 'end': 1162, 'start_hour': 20, 'end_hour': 20, 'duration': 6},\n",
       " {'start': 1171,\n",
       "  'end': 1179,\n",
       "  'start_hour': 20,\n",
       "  'end_hour': 20,\n",
       "  'duration': 13},\n",
       " {'start': 1194,\n",
       "  'end': 1210,\n",
       "  'start_hour': 20,\n",
       "  'end_hour': 21,\n",
       "  'duration': 21}]"
      ]
     },
     "execution_count": 335,
     "metadata": {},
     "output_type": "execute_result"
    }
   ],
   "source": [
    "each_cust=getting_start_end_hour(df['MVPASession'][0])\n",
    "each_cust"
   ]
  },
  {
   "cell_type": "code",
   "execution_count": 336,
   "metadata": {},
   "outputs": [
    {
     "data": {
      "text/plain": [
       "[(8, 8),\n",
       " (9, 6),\n",
       " (10, 7),\n",
       " (10, 5),\n",
       " (11, 4),\n",
       " (11, 13),\n",
       " (11, 6),\n",
       " (12, 38),\n",
       " (14, 6),\n",
       " (14, 7),\n",
       " (15, 6),\n",
       " (16, 2),\n",
       " (17, 7),\n",
       " (17, 5),\n",
       " (18, 8),\n",
       " (19, 1),\n",
       " (20, 8),\n",
       " (20, 6),\n",
       " (21, 10)]"
      ]
     },
     "execution_count": 336,
     "metadata": {},
     "output_type": "execute_result"
    }
   ],
   "source": [
    "#sam={'start': 55, 'end': 59, 'start_hour': 1, 'end_hour': 1, 'duration': 13}\n",
    "\n",
    "endpoint=np.arange(0, 1500, 60)\n",
    "\n",
    "lit=[]\n",
    "for each_session in each_cust:\n",
    "    \n",
    "   \n",
    "    if each_session['duration'] > 9:\n",
    "        \n",
    "        if each_session['start_hour']!=each_session['end_hour']:\n",
    "            for i in endpoint:\n",
    "\n",
    "                if each_session['start'] <= i <= each_session['end']:\n",
    "\n",
    "                    first_hour_time=int(i)-each_session['start']\n",
    "                    second_hour_time=each_session['duration']-first_hour_time-5\n",
    "                    \n",
    "                    \n",
    "                    tup1=(each_session['start_hour'],first_hour_time)\n",
    "                    lit.append(tup1)\n",
    "                    tup2=(each_session['end_hour'],second_hour_time)\n",
    "                    lit.append(tup2)\n",
    "\n",
    "        else:\n",
    "            #sess_hour_time.append(each_session['start_hour'])\n",
    "            matched_tup=(each_session['start_hour'],each_session['duration']-5)  \n",
    "            lit.append(matched_tup)\n",
    "lit"
   ]
  },
  {
   "cell_type": "code",
   "execution_count": 337,
   "metadata": {
    "scrolled": true
   },
   "outputs": [
    {
     "data": {
      "text/plain": [
       "{20: 3, 16: 3, 17: 2, 15: 2, 14: 2, 11: 2, 10: 2, 18: 1, 9: 1, 8: 1}"
      ]
     },
     "execution_count": 337,
     "metadata": {},
     "output_type": "execute_result"
    }
   ],
   "source": [
    "addup_values=[]\n",
    "for i in each_cust:\n",
    "    addup_values.append(i['start_hour'])\n",
    "\n",
    "multiply_dict=dict(pd.Series(addup_values).value_counts())\n",
    "multiply_dict"
   ]
  },
  {
   "cell_type": "code",
   "execution_count": 338,
   "metadata": {
    "collapsed": true
   },
   "outputs": [
    {
     "data": {
      "text/plain": [
       "{8: 13,\n",
       " 9: 11,\n",
       " 10: 22,\n",
       " 11: 33,\n",
       " 12: 38,\n",
       " 14: 23,\n",
       " 15: 16,\n",
       " 16: 17,\n",
       " 17: 22,\n",
       " 18: 13,\n",
       " 19: 1,\n",
       " 20: 29,\n",
       " 21: 10}"
      ]
     },
     "execution_count": 338,
     "metadata": {},
     "output_type": "execute_result"
    }
   ],
   "source": [
    "from itertools import groupby\n",
    "from operator import itemgetter\n",
    "lit = [(8, 8), (9, 6), (10, 7), (10, 5), (11, 4), (11, 13), (11, 6), (12, 38), (14, 6), (14, 7), (15, 6), (16, 2), (17, 7), (17, 5), (18, 8), (19, 1), (20, 8), (20, 6), (21, 10)]\n",
    "offset=5 # in minutes\n",
    "#multiply_dict = {20: 3, 16: 3, 17: 2, 15: 2, 14: 2, 11: 2, 10: 2, 18: 1, 9: 1, 8: 1}\n",
    "res = [(k, sum(list(zip(*g))[1]) + multiply_dict.get(k,0) * offset ) for k, g in groupby(lit, itemgetter(0))]\n",
    "res=dict(res)\n",
    "res"
   ]
  },
  {
   "cell_type": "code",
   "execution_count": null,
   "metadata": {},
   "outputs": [],
   "source": []
  },
  {
   "cell_type": "code",
   "execution_count": null,
   "metadata": {},
   "outputs": [],
   "source": []
  },
  {
   "cell_type": "code",
   "execution_count": null,
   "metadata": {},
   "outputs": [],
   "source": []
  },
  {
   "cell_type": "code",
   "execution_count": null,
   "metadata": {},
   "outputs": [],
   "source": []
  },
  {
   "cell_type": "code",
   "execution_count": null,
   "metadata": {},
   "outputs": [],
   "source": []
  },
  {
   "cell_type": "code",
   "execution_count": null,
   "metadata": {},
   "outputs": [],
   "source": []
  },
  {
   "cell_type": "code",
   "execution_count": null,
   "metadata": {},
   "outputs": [],
   "source": []
  },
  {
   "cell_type": "code",
   "execution_count": null,
   "metadata": {},
   "outputs": [],
   "source": []
  },
  {
   "cell_type": "code",
   "execution_count": null,
   "metadata": {},
   "outputs": [],
   "source": []
  },
  {
   "cell_type": "code",
   "execution_count": 334,
   "metadata": {},
   "outputs": [
    {
     "data": {
      "text/html": [
       "<div>\n",
       "<style scoped>\n",
       "    .dataframe tbody tr th:only-of-type {\n",
       "        vertical-align: middle;\n",
       "    }\n",
       "\n",
       "    .dataframe tbody tr th {\n",
       "        vertical-align: top;\n",
       "    }\n",
       "\n",
       "    .dataframe thead th {\n",
       "        text-align: right;\n",
       "    }\n",
       "</style>\n",
       "<table border=\"1\" class=\"dataframe\">\n",
       "  <thead>\n",
       "    <tr style=\"text-align: right;\">\n",
       "      <th></th>\n",
       "      <th>1</th>\n",
       "      <th>2</th>\n",
       "      <th>3</th>\n",
       "      <th>4</th>\n",
       "      <th>5</th>\n",
       "      <th>6</th>\n",
       "      <th>7</th>\n",
       "      <th>8</th>\n",
       "      <th>9</th>\n",
       "      <th>10</th>\n",
       "      <th>...</th>\n",
       "      <th>15</th>\n",
       "      <th>16</th>\n",
       "      <th>17</th>\n",
       "      <th>18</th>\n",
       "      <th>19</th>\n",
       "      <th>20</th>\n",
       "      <th>21</th>\n",
       "      <th>22</th>\n",
       "      <th>23</th>\n",
       "      <th>24</th>\n",
       "    </tr>\n",
       "  </thead>\n",
       "  <tbody>\n",
       "    <tr>\n",
       "      <td>id</td>\n",
       "      <td>NaN</td>\n",
       "      <td>NaN</td>\n",
       "      <td>NaN</td>\n",
       "      <td>NaN</td>\n",
       "      <td>NaN</td>\n",
       "      <td>NaN</td>\n",
       "      <td>NaN</td>\n",
       "      <td>13</td>\n",
       "      <td>11</td>\n",
       "      <td>22</td>\n",
       "      <td>...</td>\n",
       "      <td>16</td>\n",
       "      <td>17</td>\n",
       "      <td>22</td>\n",
       "      <td>13</td>\n",
       "      <td>1</td>\n",
       "      <td>29</td>\n",
       "      <td>10</td>\n",
       "      <td>NaN</td>\n",
       "      <td>NaN</td>\n",
       "      <td>NaN</td>\n",
       "    </tr>\n",
       "  </tbody>\n",
       "</table>\n",
       "<p>1 rows × 24 columns</p>\n",
       "</div>"
      ],
      "text/plain": [
       "     1    2    3    4    5    6    7   8   9   10  ...  15  16  17  18 19  20  \\\n",
       "id  NaN  NaN  NaN  NaN  NaN  NaN  NaN  13  11  22  ...  16  17  22  13  1  29   \n",
       "\n",
       "    21   22   23   24  \n",
       "id  10  NaN  NaN  NaN  \n",
       "\n",
       "[1 rows x 24 columns]"
      ]
     },
     "execution_count": 334,
     "metadata": {},
     "output_type": "execute_result"
    }
   ],
   "source": [
    "\n",
    "new_df=pd.DataFrame(res,columns=res.keys(),index=['id'])\n",
    "new_df\n",
    "\n",
    "#new_columns=['Hr0'+str(i) if i <10 else 'Hr'+str(i) for i in np.arange(1,25)  ]\n",
    "new_columns=np.arange(1,25)\n",
    "s=pd.DataFrame(columns =list(new_columns ))\n",
    "alll=s.append(new_df)\n",
    "alll"
   ]
  },
  {
   "cell_type": "code",
   "execution_count": null,
   "metadata": {},
   "outputs": [],
   "source": [
    "df['race_label'] = df.apply(label_race, axis=1)\n"
   ]
  }
 ],
 "metadata": {
  "kernelspec": {
   "display_name": "Python 3",
   "language": "python",
   "name": "python3"
  },
  "language_info": {
   "codemirror_mode": {
    "name": "ipython",
    "version": 3
   },
   "file_extension": ".py",
   "mimetype": "text/x-python",
   "name": "python",
   "nbconvert_exporter": "python",
   "pygments_lexer": "ipython3",
   "version": "3.7.3"
  }
 },
 "nbformat": 4,
 "nbformat_minor": 2
}

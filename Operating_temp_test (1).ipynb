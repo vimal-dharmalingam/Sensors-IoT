{
 "cells": [
  {
   "cell_type": "code",
   "execution_count": 1,
   "metadata": {},
   "outputs": [
    {
     "data": {
      "text/plain": [
       "'/Users/nsearch/Documents/LOCAL_MACHINE_PY/Data_Standardization'"
      ]
     },
     "execution_count": 1,
     "metadata": {},
     "output_type": "execute_result"
    }
   ],
   "source": [
    "pwd"
   ]
  },
  {
   "cell_type": "markdown",
   "metadata": {},
   "source": [
    "##### Assumption Based on All 20 Endpoints\n",
    "\n",
    "1. Always degree celsius comes first,fahrenheit comes next \n",
    "2. Operating temperature should be in range \n",
    "3. Degree Celsius values not in Square bracket or any other special characters\n",
    "4. All the endpoints have considered Degree Celsius as a Primary Unit.\n",
    "\n",
    "Testing Possibilities \n",
    "1. Can try with multiple lines of text with temp ranges/only temp range \n",
    "\n",
    "Output Format\n",
    "1. Output format\n",
    "    operating_temperature = {\n",
    "      \"min\" : -20.0,\n",
    "      \"max\" : 70.0,\n",
    "      \"unit\" : \"°C”,\n",
    "      \"repr\" : \"-20.0 to 70.0 °C\" }"
   ]
  },
  {
   "cell_type": "code",
   "execution_count": 2,
   "metadata": {},
   "outputs": [],
   "source": [
    "# text_op=[\n",
    "# '-32°C at regulating, Operating-/ storage temperature -32°C...+323°C / -32°C...+32°C',\n",
    "# '-32°C at regulating, Operating-/ storage temperature +323°C',\n",
    "# 'Operating-/ storage temperature -32°C...+323°C / -32°C...+32°C',\n",
    "# 'Operating-/ storage temperature -40°C...+85°C / -40°C...+90°C',\n",
    "# 'Range -200 to1750°C',\n",
    "# 'Operating Temperature (min to max)  0 - 50°C',\n",
    "# 'Temperature range 0 - 50°C',\n",
    "# 'Temperature -20°C to 85°C [-4°F to 185°F]',\n",
    "# 'Recommended operating temperature -40 … ＋180℃',\n",
    "# 'Operating Temperature Range (°C) -40 … ＋180℃',\n",
    "# 'Operating Temperature Range (°F) -200 to1750°C',\n",
    "# 'Working temperature 0 °C to 150 °C [32 °F to 302 °F]',\n",
    "# 'Temperature (Operating) -40…85°C',\n",
    "# 'operating_temperature -20˝C / 50˝C',\n",
    "# 'Operating Range -20 ~ +70 ℃',\n",
    "# 'Operating temperature ranges between -25°C and 70°C'\n",
    "# ]"
   ]
  },
  {
   "cell_type": "code",
   "execution_count": 3,
   "metadata": {},
   "outputs": [],
   "source": [
    "#Testing Cases\n",
    "# testing_cases=['Operating temperature ranges between -25°C and 70°C',\n",
    "#               'Operating Range -20 ~ +70 ℃']"
   ]
  },
  {
   "cell_type": "code",
   "execution_count": 6,
   "metadata": {},
   "outputs": [],
   "source": [
    "import re\n",
    "def Std_Operating_Temp (test_cases):\n",
    "    \n",
    "    # def find_unique_position(one_num, ip_str):\n",
    "    #     for i in re.finditer(one_num, ip_str):\n",
    "    #         if\n",
    "    #     [(i.start(), i.end()) for i in re.finditer(one_num, ip_str)]\n",
    "    ip_str=test_cases\n",
    "    def number_loctn_finder(ip_str):\n",
    "        numbers1 = numbers2 = []\n",
    "        pattern= ''\n",
    "        try:\n",
    "            numbers1=re.findall(r'[-+±]?[0-9]*\\.?[0-9]+', ip_str)\n",
    "        except:\n",
    "            pattern = '\\\\([-+±]?)[0-9]*\\.?[0-9]+'\n",
    "        # print(numbers1 ,'---->>')\n",
    "        try:\n",
    "            numbers2=re.findall(r'\\\\([-+±]?)[0-9]*\\.?[0-9]+', ip_str)\n",
    "        except:\n",
    "            pattern = '([-+±]?)[0-9]*\\.?[0-9]+'\n",
    "        numbers = numbers1 + numbers2\n",
    "        only_digits=[i for i in numbers if re.match(pattern, i) ]#(\\s+)?\n",
    "        # print(only_digits)\n",
    "        num_loc=[]\n",
    "        temp_ip_str = ip_str\n",
    "        for one_num in numbers:\n",
    "            # print(one_num, \"----->>>\")\n",
    "            start = 0; end = 0\n",
    "            try:\n",
    "                start = temp_ip_str.index(one_num)\n",
    "            except ValueError:\n",
    "                continue\n",
    "            else:\n",
    "                end = start + len(one_num)\n",
    "                temp_ip_str = end*' ' + temp_ip_str[end:]\n",
    "            num_loc.append((start, end))\n",
    "        final_res = list(set(num_loc))\n",
    "        final_res.sort()\n",
    "        return final_res, numbers\n",
    "    def find_couples(res_num, ip_str):\n",
    "        temp_list= []\n",
    "        for x in zip(res_num[:-1], res_num[1:]):\n",
    "            # print(x)\n",
    "            if int(x[0][1]) < int(x[1][1]):\n",
    "                length = x[1][0][0] - x[0][0][1]\n",
    "                between_str = ip_str[x[0][0][1]: x[1][0][0]]\n",
    "                # import pdb;pdb.set_trace()\n",
    "                if ( not re.search('[a-z]+', between_str) ) or re.search(' and|to ', ' ' + between_str + ' '):\n",
    "                    temp_list.append(x)\n",
    "                # print(length, between_str)\n",
    "        return temp_list\n",
    "    for each in test_cases:\n",
    "        #print(each)\n",
    "        res, num = number_loctn_finder(each)\n",
    "        couple_list = find_couples(list(zip(res, num)), each)\n",
    "    #    print(couple_list)\n",
    "\n",
    "    #'-32°C at regulating, Operating-/ storage temperature +323°C'\n",
    "    #--------need to set the logic based on length else . it will through error for this kind of cases\n",
    "    op_list=[]\n",
    "    dic=[]\n",
    "    for each in test_cases:\n",
    "       # print(each)\n",
    "        dic_1={}\n",
    "        res, num = number_loctn_finder(each)\n",
    "        couple_list = find_couples(list(zip(res, num)), each)\n",
    "        op_list.append(couple_list)\n",
    "        if len(couple_list)==0:\n",
    "            #print(each)\n",
    "            dic_1[\"Ecxptn\"]=each\n",
    "            #print(dic_1)\n",
    "            dic.append(dic_1)\n",
    "            continue;\n",
    "        min_val=couple_list[0][0][1]\n",
    "        max_val=couple_list[0][1][1]\n",
    "\n",
    "        dic_1[\"min\"]=int(min_val)\n",
    "        dic_1[\"max\"]=int(max_val)\n",
    "        dic_1[\"unit\"]='°C'\n",
    "        text=min_val+' to '+max_val\n",
    "        dic_1[\"repr\"]=str(text)\n",
    "        dic_1[\"Ecxptn\"]=None\n",
    "        #print(min_val,max_val)\n",
    "\n",
    "        dict_form=[('Min',min_val),('max_val',max_val)]\n",
    "        #print(dict_form)\n",
    "        dic.append(dic_1)\n",
    "\n",
    "    return dic\n",
    "\n"
   ]
  },
  {
   "cell_type": "code",
   "execution_count": 7,
   "metadata": {
    "collapsed": true
   },
   "outputs": [
    {
     "data": {
      "text/plain": [
       "[{'min': -25, 'max': 70, 'unit': '°C', 'repr': '-25 to 70', 'Ecxptn': None},\n",
       " {'min': -20, 'max': 70, 'unit': '°C', 'repr': '-20 to +70', 'Ecxptn': None}]"
      ]
     },
     "execution_count": 7,
     "metadata": {},
     "output_type": "execute_result"
    }
   ],
   "source": [
    "test_cases=['Operating temperature ranges between -25°C and 70°C',\n",
    "              'Operating Range -20 ~ +70 ℃']\n",
    "Std_Operating_Temp(test_cases)"
   ]
  },
  {
   "cell_type": "code",
   "execution_count": null,
   "metadata": {},
   "outputs": [],
   "source": []
  }
 ],
 "metadata": {
  "kernelspec": {
   "display_name": "Python 3",
   "language": "python",
   "name": "python3"
  },
  "language_info": {
   "codemirror_mode": {
    "name": "ipython",
    "version": 3
   },
   "file_extension": ".py",
   "mimetype": "text/x-python",
   "name": "python",
   "nbconvert_exporter": "python",
   "pygments_lexer": "ipython3",
   "version": "3.7.3"
  }
 },
 "nbformat": 4,
 "nbformat_minor": 2
}
